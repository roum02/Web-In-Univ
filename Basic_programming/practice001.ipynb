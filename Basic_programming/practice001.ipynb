{
 "cells": [
  {
   "cell_type": "markdown",
   "metadata": {},
   "source": [
    "# 실습문제"
   ]
  },
  {
   "cell_type": "markdown",
   "metadata": {},
   "source": [
    "1. 다음 정수를 다섯번 이상 입력받아서 가장 큰 수를 출력하는 프로그램을 작성하세요.<br/><br/>\n",
    "숫자를 입력하세요  1 (엔터키)<br/>\n",
    "가장 큰 수는 1입니다.<br/><br/>\n",
    "숫자를 입력하세요  5 (엔터키)<br/>\n",
    "가장 큰 수는 5입니다.<br/><br/>\n",
    "숫자를 입력하세요  3 (엔터키)<br/>\n",
    "가장 큰 수는 5입니다.<br/><br/>\n",
    "숫자를 입력하세요  7 (엔터키)<br/>\n",
    "가장 큰 수는 7입니다.<br/><br/>\n",
    "숫자를 입력하세요  1 (엔터키)<br/>\n",
    "가장 큰 수는 7입니다.<br/><br/>\n",
    "숫자를 입력하세요  quit (엔터키)<br/>"
   ]
  },
  {
   "cell_type": "code",
   "execution_count": 7,
   "metadata": {},
   "outputs": [
    {
     "name": "stdout",
     "output_type": "stream",
     "text": [
      "숫자를 입력하세요3\n",
      "가장 큰 수는 3 입니다.\n",
      "숫자를 입력하세요3\n",
      "가장 큰 수는 3 입니다.\n",
      "숫자를 입력하세요2\n",
      "가장 큰 수는 3 입니다.\n",
      "숫자를 입력하세요6\n",
      "가장 큰 수는 6 입니다.\n",
      "숫자를 입력하세요5\n",
      "가장 큰 수는 6 입니다.\n",
      "숫자를 입력하세요5\n",
      "가장 큰 수는 6 입니다.\n",
      "숫자를 입력하세요quit\n"
     ]
    }
   ],
   "source": []
  },
  {
   "cell_type": "markdown",
   "metadata": {},
   "source": [
    "2. 한 점을 구성하는 (x, y) 좌표를 입력받고, 이 점이 (50, 40), (50, 80), (100, 40), (100, 80)을 꼭짓점으로 갖는 사각형 안에 있는지 판별하는 프로그램을 작성하시오.<br/><br/>\n",
    "Enter x: 55<br/>\n",
    "Enter y: 45<br/>\n",
    "사각형 안에 있습니다."
   ]
  },
  {
   "cell_type": "code",
   "execution_count": 10,
   "metadata": {},
   "outputs": [
    {
     "name": "stdout",
     "output_type": "stream",
     "text": [
      "Enter x: 55\n",
      "Enter y: 45\n",
      "사각형 안에 있습니다.\n"
     ]
    }
   ],
   "source": [
    " "
   ]
  },
  {
   "cell_type": "markdown",
   "metadata": {},
   "source": [
    "3. 3x + 2y = 10을 만족하는 x, y를 모두 구하라 (단 x, y는 정수이며 0<=x, y<=10을 만족한다.)"
   ]
  },
  {
   "cell_type": "code",
   "execution_count": 14,
   "metadata": {},
   "outputs": [
    {
     "name": "stdout",
     "output_type": "stream",
     "text": [
      "( 0 , 5 )\n",
      "( 2 , 2 )\n"
     ]
    }
   ],
   "source": []
  },
  {
   "cell_type": "markdown",
   "metadata": {},
   "source": [
    "4. 디지털 시계는 하루 동안 다음과 같이 시:분의 형식으로 (00:00~23:59) 표시된다. 디지털 시계에 하루 동안 3이 표시되는 시간이 총 몇 초인지 구하는 프로그램을 작성하라.\n",
    "\n",
    "3이 들어있으면 무조건 1초가 되는 것. \n"
   ]
  },
  {
   "cell_type": "code",
   "execution_count": 15,
   "metadata": {},
   "outputs": [
    {
     "name": "stdout",
     "output_type": "stream",
     "text": [
      "495\n"
     ]
    }
   ],
   "source": []
  },
  {
   "cell_type": "markdown",
   "metadata": {},
   "source": [
    "5. 1+(-2)+3+(-4)+...와 같은 방식으로 계속 더할 경우에 총합이 100 이상이 되는 마지막 수가 무엇인지 프로그램을 작성하세요."
   ]
  },
  {
   "cell_type": "code",
   "execution_count": 10,
   "metadata": {},
   "outputs": [
    {
     "name": "stdout",
     "output_type": "stream",
     "text": [
      "last number is  199\n"
     ]
    }
   ],
   "source": []
  },
  {
   "cell_type": "markdown",
   "metadata": {},
   "source": [
    "6. 다음 수열은 자연수 n에 대해서 아래와 같은 규칙을 가진다.<br/><br/>\n",
    "\n",
    "n => n/2 (n이 짝수) <br/>\n",
    "n => 2n + 2 (n이 홀수) <br/>\n",
    "\n",
    "n = 13일 때 수열은 13 => 28 => 14 => 7 => 16 => 8 => 4 => 2 => 1으로 길이가 9인 수열이 된다. <br/><br/>\n",
    "임의의 자연수 n을 입력받아서 수열의 길이를 출력하는 프로그램을 작성하세요."
   ]
  },
  {
   "cell_type": "code",
   "execution_count": 12,
   "metadata": {},
   "outputs": [
    {
     "name": "stdout",
     "output_type": "stream",
     "text": [
      "Enter the number: 17\n",
      "\n",
      "total : 14\n"
     ]
    }
   ],
   "source": []
  },
  {
   "cell_type": "markdown",
   "metadata": {},
   "source": [
    "7. 임의의 양수를 입력받아서 이 양수보다 작은 소수 중에 가장 큰 수를 출력하는 프로그램을 완성하라."
   ]
  },
  {
   "cell_type": "code",
   "execution_count": 14,
   "metadata": {},
   "outputs": [
    {
     "name": "stdout",
     "output_type": "stream",
     "text": [
      "Enter the positive number: 36\n",
      "biggest prime number under 36 is  31\n"
     ]
    }
   ],
   "source": [
    "    "
   ]
  },
  {
   "cell_type": "markdown",
   "metadata": {},
   "source": [
    "8. 다음 수의 연쇄를 출력하는 프로그램을 작성하세요<br/><br/>\n",
    "\n",
    "0 1 2 3 4 5<br/>\n",
    "1 2 3 4 5 6<br/>\n",
    "2 3 4 5 6 7<br/>"
   ]
  },
  {
   "cell_type": "code",
   "execution_count": 17,
   "metadata": {},
   "outputs": [
    {
     "name": "stdout",
     "output_type": "stream",
     "text": [
      "0 1 2 3 4 5 \n",
      "1 2 3 4 5 6 \n",
      "2 3 4 5 6 7 \n"
     ]
    }
   ],
   "source": []
  },
  {
   "cell_type": "markdown",
   "metadata": {},
   "source": [
    "9. 연도를 입력받아서 윤년인지 판정해 주는 프로그램을 작성하세요.<br/><br/>\n",
    "\n",
    "연수가 4로 나누어서 떨어지면 해는 윤년<br/>\n",
    "그 중에서 100으로 나누어서 떨어지면 해는 평년<br/>\n",
    "다만 400으로 나누어 떨어지면 다시 윤년<br/>\n",
    "2016년은 윤년, 2100년은 윤년아님, 2000년은 윤년<br/>"
   ]
  },
  {
   "cell_type": "code",
   "execution_count": 3,
   "metadata": {},
   "outputs": [
    {
     "name": "stdout",
     "output_type": "stream",
     "text": [
      "Enter year: 2100\n",
      "2100 년은 윤년이 아닙니다.\n"
     ]
    }
   ],
   "source": []
  },
  {
   "cell_type": "markdown",
   "metadata": {},
   "source": [
    "10. 두 수를 입력받아, 작은 수에서 큰 수까지 5의 배수를 순서대로 출력하는 프로그램을 작성하라.<br/><br/>\n",
    "\n",
    "first num: 34<br/>\n",
    "second num: 7<br/>\n",
    "10<br/>\n",
    "15<br/>\n",
    "20<br/>\n",
    "25<br/>\n",
    "30<br/>"
   ]
  },
  {
   "cell_type": "code",
   "execution_count": 4,
   "metadata": {},
   "outputs": [
    {
     "name": "stdout",
     "output_type": "stream",
     "text": [
      "first num: 34\n",
      "second num: 7\n",
      "10\n",
      "15\n",
      "20\n",
      "25\n",
      "30\n"
     ]
    }
   ],
   "source": []
  },
  {
   "cell_type": "code",
   "execution_count": null,
   "metadata": {},
   "outputs": [],
   "source": []
  }
 ],
 "metadata": {
  "kernelspec": {
   "display_name": "Python 3",
   "language": "python",
   "name": "python3"
  },
  "language_info": {
   "codemirror_mode": {
    "name": "ipython",
    "version": 3
   },
   "file_extension": ".py",
   "mimetype": "text/x-python",
   "name": "python",
   "nbconvert_exporter": "python",
   "pygments_lexer": "ipython3",
   "version": "3.8.3"
  }
 },
 "nbformat": 4,
 "nbformat_minor": 2
}
