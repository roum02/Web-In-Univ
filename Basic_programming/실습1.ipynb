{
 "cells": [
  {
   "cell_type": "markdown",
   "id": "turkish-supervision",
   "metadata": {},
   "source": [
    "1. 다음 정수를 다섯번 이상 입력받아서 가장 큰 수를 출력하는 프로그램을 작성하세요.\n",
    "\n",
    "숫자를 입력하세요 1 (엔터키)\n",
    "가장 큰 수는 1입니다.\n",
    "\n",
    "숫자를 입력하세요 5 (엔터키)\n",
    "가장 큰 수는 5입니다.\n",
    "\n",
    "숫자를 입력하세요 3 (엔터키)\n",
    "가장 큰 수는 5입니다.\n",
    "\n",
    "숫자를 입력하세요 7 (엔터키)\n",
    "가장 큰 수는 7입니다.\n",
    "\n",
    "숫자를 입력하세요 1 (엔터키)\n",
    "가장 큰 수는 7입니다.\n",
    "\n",
    "숫자를 입력하세요 quit (엔터키)"
   ]
  },
  {
   "cell_type": "code",
   "execution_count": 24,
   "id": "western-techno",
   "metadata": {},
   "outputs": [
    {
     "name": "stdout",
     "output_type": "stream",
     "text": [
      "숫자를 입력하세요1\n",
      "가장 큰 수는 1 입니다.\n",
      "숫자를 입력하세요5\n",
      "가장 큰 수는 5 입니다.\n",
      "숫자를 입력하세요3\n",
      "가장 큰 수는 5 입니다.\n",
      "숫자를 입력하세요7\n",
      "가장 큰 수는 7 입니다.\n",
      "숫자를 입력하세요quit\n"
     ]
    }
   ],
   "source": [
    "n = 0\n",
    "max_list = []\n",
    "\n",
    "while n < 6:\n",
    "    \n",
    "    number = input(\"숫자를 입력하세요\")\n",
    "    \n",
    "    if number != \"quit\":\n",
    "        number = int(number)\n",
    "        max_list.append(number)\n",
    "        #print(max_list)\n",
    "    elif number == \"quit\":\n",
    "        break\n",
    "    \n",
    "    print(\"가장 큰 수는 %d 입니다.\" %max(max_list))\n",
    "    \n",
    "    n += 1\n"
   ]
  },
  {
   "cell_type": "markdown",
   "id": "roman-italic",
   "metadata": {},
   "source": [
    "2. 한 점을 구성하는 (x, y) 좌표를 입력받고, 이 점이 (50, 40), (50, 80), (100, 40), (100, 80)을 꼭짓점으로 갖는 사각형 안에 있는지 판별하는 프로그램을 작성하시오."
   ]
  },
  {
   "cell_type": "code",
   "execution_count": 26,
   "id": "numerous-atmosphere",
   "metadata": {},
   "outputs": [
    {
     "name": "stdout",
     "output_type": "stream",
     "text": [
      "Enter x:102\n",
      "Enter y:500\n",
      "사각형 안에 없습니다.\n"
     ]
    }
   ],
   "source": [
    "def in_the_squre():\n",
    "    x = int(input(\"Enter x:\"))\n",
    "    y = int(input(\"Enter y:\"))\n",
    "    \n",
    "    if (x >= 50 and x <= 100) and (y >= 40) and (y <= 80):\n",
    "        print(\"사각형 안에 있습니다.\")\n",
    "    else:\n",
    "        print(\"사각형 안에 없습니다.\")\n",
    "        \n",
    "in_the_squre()"
   ]
  },
  {
   "cell_type": "markdown",
   "id": "inner-variance",
   "metadata": {},
   "source": [
    "3. 3x + 2y = 10을 만족하는 x, y를 모두 구하라 (단 x, y는 정수이며 0<=x, y<=10을 만족한다.)"
   ]
  },
  {
   "cell_type": "code",
   "execution_count": 38,
   "id": "upset-plant",
   "metadata": {},
   "outputs": [
    {
     "name": "stdout",
     "output_type": "stream",
     "text": [
      "( 0 , 5 )\n",
      "( 2 , 2 )\n"
     ]
    }
   ],
   "source": [
    "x = 0\n",
    "y = 0\n",
    "\n",
    "for x in range(0, 10000):\n",
    "    for y in range(0, 11):\n",
    "        if (x*3) + (y*2) == 10:\n",
    "            print(\"( %d , %d )\" %(x,y))"
   ]
  },
  {
   "cell_type": "markdown",
   "id": "indoor-korean",
   "metadata": {},
   "source": [
    "4. 디지털 시계는 하루 동안 다음과 같이 시:분의 형식으로 (00:00~23:59) 표시된다. 디지털 시계에 하루 동안 3이 표시되는 시간이 총 몇 초인지 구하는 프로그램을 작성하라.\n",
    "3이 들어있으면 무조건 1초가 되는 것."
   ]
  },
  {
   "cell_type": "code",
   "execution_count": 32,
   "id": "attempted-timber",
   "metadata": {},
   "outputs": [
    {
     "name": "stdout",
     "output_type": "stream",
     "text": [
      "495\n"
     ]
    }
   ],
   "source": [
    "#시 : 3, 13, 23\n",
    "#분 : 3, 13, 23, 33, 43, 53\n",
    "#분2 : 30, 31, 32, 34, 35, 36, 37, 38, 39\n",
    "\n",
    "count = 0\n",
    "min_string = \"\"\n",
    "hour_string = \"\"\n",
    "\n",
    "for hour in range(0, 24):\n",
    "    hour_string = str(hour)\n",
    "    \n",
    "    for min in range(0, 60):\n",
    "        min_string = str(min)\n",
    "        \n",
    "        if '3' in min_string or '3' in hour_string:\n",
    "            count += 1\n",
    "\n",
    "print(count)\n"
   ]
  },
  {
   "cell_type": "markdown",
   "id": "ethical-muslim",
   "metadata": {},
   "source": [
    "5.1+(-2)+3+(-4)+...와 같은 방식으로 계속 더할 경우에 총합이 100 이상이 되는 마지막 수가 무엇인지 프로그램을 작성하세요."
   ]
  },
  {
   "cell_type": "code",
   "execution_count": 51,
   "id": "medieval-fraud",
   "metadata": {},
   "outputs": [
    {
     "name": "stdout",
     "output_type": "stream",
     "text": [
      "last number is 199\n"
     ]
    }
   ],
   "source": [
    "n = 0\n",
    "sum = 0\n",
    "\n",
    "while True:\n",
    "         \n",
    "    if n%2 == 0:\n",
    "        n = -n\n",
    "        sum = sum + n\n",
    "        n = abs(n)\n",
    "        if sum >= 100:\n",
    "            print(\"last number is %d\" %n)\n",
    "            break\n",
    "    else:\n",
    "        sum = sum + n\n",
    "        if sum >= 100:\n",
    "            print(\"last number is %d\" %n)\n",
    "            break\n",
    "    n += 1\n",
    "    "
   ]
  },
  {
   "cell_type": "markdown",
   "id": "separated-conversion",
   "metadata": {},
   "source": [
    "6.다음 수열은 자연수 n에 대해서 아래와 같은 규칙을 가진다.\n",
    "\n",
    "n => n/2 (n이 짝수)\n",
    "n => 2n + 2 (n이 홀수)\n",
    "\n",
    "n = 13일 때 수열은 13 => 28 => 14 => 7 => 16 => 8 => 4 => 2 => 1으로 길이가 9인 수열이 된다.\n",
    "\n",
    "임의의 자연수 n을 입력받아서 수열의 길이를 출력하는 프로그램을 작성하세요."
   ]
  },
  {
   "cell_type": "code",
   "execution_count": null,
   "id": "informative-joyce",
   "metadata": {},
   "outputs": [],
   "source": []
  },
  {
   "cell_type": "markdown",
   "id": "eight-fountain",
   "metadata": {},
   "source": [
    "7.임의의 양수를 입력받아서 이 양수보다 작은 소수 중에 가장 큰 수를 출력하는 프로그램을 완성하라."
   ]
  },
  {
   "cell_type": "code",
   "execution_count": null,
   "id": "progressive-domain",
   "metadata": {},
   "outputs": [],
   "source": [
    "prime = int(input(\"Enter the positive number: \"))\n",
    "count = 0\n",
    "\n",
    "#소수인지 아닌지 판별될 수\n",
    "for i in range(prime-1, 2, -1):\n",
    "    #나누어질 수\n",
    "    for k in range(2, prime):\n",
    "        if i%k == 0:\n",
    "            count += 1\n",
    "            continue\n",
    "        \n",
    "    \n",
    "    "
   ]
  },
  {
   "cell_type": "markdown",
   "id": "arctic-backing",
   "metadata": {},
   "source": [
    "8. 다음 수의 연쇄를 출력하는 프로그램을 작성하세요\n",
    "\n",
    "0 1 2 3 4 5\n",
    "\n",
    "1 2 3 4 5 6\n",
    "\n",
    "2 3 4 5 6 7"
   ]
  },
  {
   "cell_type": "code",
   "execution_count": 10,
   "id": "analyzed-maintenance",
   "metadata": {},
   "outputs": [
    {
     "name": "stdout",
     "output_type": "stream",
     "text": [
      "0 1 2 3 4 5 \n",
      "1 2 3 4 5 6 \n",
      "2 3 4 5 6 7 \n"
     ]
    }
   ],
   "source": [
    "outter_list = []\n",
    "inner_list = []\n",
    "\n",
    "for i in range(0, 3):\n",
    "    for k in range(0, 6):\n",
    "        if i == 0:\n",
    "            inner_list.append(k)\n",
    "        elif i == 1:\n",
    "            inner_list.append(k+1)\n",
    "        elif i == 2:\n",
    "            inner_list.append(k+2)    \n",
    "    outter_list.append(inner_list)\n",
    "    inner_list = []\n",
    "    \n",
    "for i in range(0,3):\n",
    "    for k in range(0, 6):\n",
    "        print(outter_list[i][k], end=' ')\n",
    "    print()"
   ]
  },
  {
   "cell_type": "markdown",
   "id": "outer-avatar",
   "metadata": {},
   "source": [
    "9.연도를 입력받아서 윤년인지 판정해 주는 프로그램을 작성하세요.\n",
    "\n",
    "연수가 4로 나누어서 떨어지면 해는 윤년\n",
    "그 중에서 100으로 나누어서 떨어지면 해는 평년\n",
    "다만 400으로 나누어 떨어지면 다시 윤년\n",
    "2016년은 윤년, 2100년은 윤년아님, 2000년은 윤년"
   ]
  },
  {
   "cell_type": "code",
   "execution_count": 18,
   "id": "recorded-nepal",
   "metadata": {},
   "outputs": [
    {
     "name": "stdout",
     "output_type": "stream",
     "text": [
      "Enter year: 2100\n",
      "2100 년은 윤년이 아닙니다.\n"
     ]
    }
   ],
   "source": [
    "leap_year = int(input(\"Enter year: \"))\n",
    "\n",
    "if leap_year%4 == 0:\n",
    "    if leap_year%100 == 0:\n",
    "        if leap_year%400 == 0:\n",
    "            print(\"%d 년은 윤년입니다.\" %leap_year)\n",
    "        else:\n",
    "            print(\"%d 년은 윤년이 아닙니다.\" %leap_year)\n",
    "    \n",
    "    else:\n",
    "        print(\"%d 년은 윤년입니다.\" %leap_year)\n",
    "    "
   ]
  },
  {
   "cell_type": "markdown",
   "id": "automatic-vanilla",
   "metadata": {},
   "source": [
    "10.두 수를 입력받아, 작은 수에서 큰 수까지 5의 배수를 순서대로 출력하는 프로그램을 작성하라.\n",
    "\n",
    "first num: 34\n",
    "second num: 7\n",
    "10\n",
    "15\n",
    "20\n",
    "25\n",
    "30"
   ]
  },
  {
   "cell_type": "code",
   "execution_count": 32,
   "id": "alien-survivor",
   "metadata": {},
   "outputs": [
    {
     "name": "stdout",
     "output_type": "stream",
     "text": [
      "first num: 5\n",
      "second num: 10\n",
      "10\n",
      "5\n"
     ]
    }
   ],
   "source": [
    "first = int(input(\"first num: \"))\n",
    "second = int(input(\"second num: \"))\n",
    "\n",
    "five_list = []\n",
    "\n",
    "if first >= second:\n",
    "    for i in range(second, first+1):\n",
    "        if (i%5 == 0) and (i != 0):\n",
    "            five_list.append(i)\n",
    "\n",
    "elif first < second:\n",
    "    for j in range(second, first-1, -1):\n",
    "        if (j%5 == 0) and (i != 0):\n",
    "            five_list.append(j)\n",
    "            \n",
    "for k in five_list:\n",
    "    print(k)"
   ]
  },
  {
   "cell_type": "code",
   "execution_count": null,
   "id": "prostate-there",
   "metadata": {},
   "outputs": [],
   "source": []
  }
 ],
 "metadata": {
  "kernelspec": {
   "display_name": "Python 3",
   "language": "python",
   "name": "python3"
  },
  "language_info": {
   "codemirror_mode": {
    "name": "ipython",
    "version": 3
   },
   "file_extension": ".py",
   "mimetype": "text/x-python",
   "name": "python",
   "nbconvert_exporter": "python",
   "pygments_lexer": "ipython3",
   "version": "3.8.3"
  }
 },
 "nbformat": 4,
 "nbformat_minor": 5
}
