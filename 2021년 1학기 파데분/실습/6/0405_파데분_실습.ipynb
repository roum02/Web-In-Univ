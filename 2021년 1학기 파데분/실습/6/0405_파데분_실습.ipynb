{
  "nbformat": 4,
  "nbformat_minor": 0,
  "metadata": {
    "colab": {
      "name": "0405 파데분 실습.ipynb",
      "provenance": [],
      "collapsed_sections": []
    },
    "kernelspec": {
      "name": "python3",
      "display_name": "Python 3"
    },
    "language_info": {
      "name": "python"
    }
  },
  "cells": [
    {
      "cell_type": "markdown",
      "metadata": {
        "id": "uP7LyqdbFo_7"
      },
      "source": [
        "2021년 4월 5일 실습3\n",
        "\n",
        "철학과 이로움(학번:1826032) 작성"
      ]
    },
    {
      "cell_type": "markdown",
      "metadata": {
        "id": "NHuB6lNDGMb9"
      },
      "source": [
        "List\n",
        "\n",
        "여러 개의 데이터를 묶어 연속적 공간에 저장할때 사용\n",
        "\n",
        "배열(다른 프로그램 언어에서 사용)과 다른 점: 형식이 동일해야 함. 그러나 파이썬은 서로 다른 데이터 타입을 원소로 가질 수 있음. "
      ]
    },
    {
      "cell_type": "code",
      "metadata": {
        "colab": {
          "base_uri": "https://localhost:8080/"
        },
        "id": "YuMH0HOjFc9e",
        "outputId": "2de907a3-f513-4837-f71a-79748a91e509"
      },
      "source": [
        "empty = []\n",
        "number = [1,2,3]\n",
        "strings = ['new','face']\n",
        "numAndStr = [1,2,3,'new','face']\n",
        "listinlist = [[1,3,5],[2,4,6]]\n",
        "odd = [1,3,5,7,9]\n",
        "\n",
        "#이부분은 출력이 안됨\n",
        "odd[0]\n",
        "odd[1]\n",
        "odd[4]\n",
        "odd[-1]\n",
        "\n",
        "#출력 되는 부분\n",
        "print(odd[0])\n",
        "print(odd[1])\n",
        "print(odd[4])\n",
        "print(odd[-1])"
      ],
      "execution_count": null,
      "outputs": [
        {
          "output_type": "stream",
          "text": [
            "1\n",
            "3\n",
            "9\n",
            "9\n"
          ],
          "name": "stdout"
        }
      ]
    },
    {
      "cell_type": "code",
      "metadata": {
        "colab": {
          "base_uri": "https://localhost:8080/"
        },
        "id": "cr9wuM0LHA_q",
        "outputId": "5404b46b-7c02-4261-b921-d58b7a5f54a7"
      },
      "source": [
        "#실습2: 리스트에 원소 추가\n",
        "aa = []\n",
        "\n",
        "#aa[0] = 10   오류발생 -> aa는 아무런 원소가 없음. \n",
        "\n",
        "aa.append(0)\n",
        "aa.append(0)\n",
        "aa.append(0)\n",
        "aa.append(0)\n",
        "\n",
        "print(aa)\n",
        "\n",
        "#위의 다섯 문장과 같은 표현\n",
        "aa = []\n",
        "for i in range(0,4):\n",
        "  aa.append(0)\n",
        "\n",
        "print(aa)\n",
        "print(len(aa))\n",
        "\n",
        "#다섯 번째 원소에 접근\n",
        "#print(aa[4])"
      ],
      "execution_count": null,
      "outputs": [
        {
          "output_type": "stream",
          "text": [
            "[0, 0, 0, 0]\n",
            "[0, 0, 0, 0]\n",
            "4\n"
          ],
          "name": "stdout"
        }
      ]
    },
    {
      "cell_type": "code",
      "metadata": {
        "id": "OKiQZsaAIJyj"
      },
      "source": [
        "#리스트와 반복문\n",
        "\n",
        "aa = []\n",
        "for i in range(0, 4) :\n",
        "  aa.append(0)        #공간 미리 만들어주기\n",
        "hap = 0\n",
        "\n",
        "for i in range(0, 4) :\n",
        "  aa[i] = Int(input(str(i+1) + \"번째 숫자 : \"))\n",
        "  hap"
      ],
      "execution_count": null,
      "outputs": []
    },
    {
      "cell_type": "code",
      "metadata": {
        "colab": {
          "base_uri": "https://localhost:8080/"
        },
        "id": "8AFfOSTtKHIp",
        "outputId": "dd079e55-b517-4355-a2c3-122bdf770df2"
      },
      "source": [
        "#실습5: 리스트의 값에 접근하는 다양한 방법\n",
        "\n",
        "aa = [10, 20, 30, 40]\n",
        "\n",
        "print(\"aa[-1]은 %d, aa[-2]은 %d\" %(aa[-1], aa[-2]))\n",
        "\n",
        "print(aa[0:3])\n",
        "print(aa[2:4])\n",
        "\n",
        "print(aa[2:])\n",
        "print(aa[:2])\n",
        "\n",
        "aa = [10, 20, 30]\n",
        "bb = [40, 50, 60]\n",
        "\n",
        "print(aa + bb)\n",
        "print(aa * 3)\n",
        "\n",
        "print(aa)\n",
        "print(bb)"
      ],
      "execution_count": null,
      "outputs": [
        {
          "output_type": "stream",
          "text": [
            "aa[-1]은 40, aa[-2]은 30\n",
            "[10, 20, 30]\n",
            "[30, 40]\n",
            "[30, 40]\n",
            "[10, 20]\n",
            "[10, 20, 30, 40, 50, 60]\n",
            "[10, 20, 30, 10, 20, 30, 10, 20, 30]\n",
            "[10, 20, 30]\n",
            "[40, 50, 60]\n"
          ],
          "name": "stdout"
        }
      ]
    },
    {
      "cell_type": "code",
      "metadata": {
        "colab": {
          "base_uri": "https://localhost:8080/"
        },
        "id": "oya_ln-JKpPk",
        "outputId": "333af7f4-8a26-46fa-b4d1-f1cda4cc1eb8"
      },
      "source": [
        "#실습6 : 리스트 함수\n",
        "\n",
        "myList = [30, 10, 20]\n",
        "print(\"현재 리스트: %s\" % myList)\n",
        "\n",
        "myList.append(40)\n",
        "print(\"append(40) 후의 리스트 : %s\" % myList)\n",
        "\n",
        "print(\"pop()으로 추출한 값 : %s\" % myList.pop())\n",
        "print(\"pop() 후의 리스트 : %s\" % myList)\n",
        "\n",
        "myList.sort()\n",
        "print(\"sort() 후의 리스트 : %s\" % myList)\n",
        "\n",
        "myList.reverse()\n",
        "print(\"reverse() 후의 리스트 : %s\" % myList)\n",
        "\n",
        "print(\"20값의 위치 : %d\" % myList.index(20))\n",
        "\n",
        "myList.insert(2, 222)\n",
        "print(\"insert(2, 222) 후의 리스트 : %s\" % myList)\n",
        "\n",
        "myList.remove(222)\n",
        "print(\"remove(222) 후의 리스트 : %s\" % myList)\n",
        "\n",
        "myList.extend([77, 88, 77])\n",
        "print(\"extend([77, 88, 77]) 후의 리스트 : %s\" % myList)\n",
        "\n",
        "print(\"77값의 개수 : %d\" % myList.count(77))"
      ],
      "execution_count": null,
      "outputs": [
        {
          "output_type": "stream",
          "text": [
            "현재 리스트: [30, 10, 20]\n",
            "append(40) 후의 리스트 : [30, 10, 20, 40]\n",
            "pop()으로 추출한 값 : 40\n",
            "pop() 후의 리스트 : [30, 10, 20]\n",
            "sort() 후의 리스트 : [10, 20, 30]\n",
            "reverse() 후의 리스트 : [30, 20, 10]\n",
            "20값의 위치 : 1\n",
            "insert(2, 222) 후의 리스트 : [30, 20, 222, 10]\n",
            "remove(222) 후의 리스트 : [30, 20, 10]\n",
            "extend([77, 88, 77]) 후의 리스트 : [30, 20, 10, 77, 88, 77]\n",
            "77값의 개수 : 2\n"
          ],
          "name": "stdout"
        }
      ]
    },
    {
      "cell_type": "code",
      "metadata": {
        "colab": {
          "base_uri": "https://localhost:8080/"
        },
        "id": "jvirFpRdMncy",
        "outputId": "d44baf1c-690f-49c3-e6a7-fa64fda48a6b"
      },
      "source": [
        "# 2차원 리스트\n",
        "\n",
        "list1 = []\n",
        "list2 = []\n",
        "value = 1\n",
        "for i in range(0, 3) :\n",
        "  for k in range(0, 4) : \n",
        "    list1.append(value)\n",
        "    value += 1\n",
        "  list2.append(list1)\n",
        "  list1 = []\n",
        "\n",
        "for i in range(0, 3) :\n",
        "  for k in range(0, 4) :\n",
        "    print(\"%3d\" % list2[i][k], end = \" \") #2차원 list[행][렬]\n",
        "  print(\"\")"
      ],
      "execution_count": null,
      "outputs": [
        {
          "output_type": "stream",
          "text": [
            "  1   2   3   4 \n",
            "  5   6   7   8 \n",
            "  9  10  11  12 \n"
          ],
          "name": "stdout"
        }
      ]
    },
    {
      "cell_type": "code",
      "metadata": {
        "colab": {
          "base_uri": "https://localhost:8080/"
        },
        "id": "mfwrMxV-OnPy",
        "outputId": "50a86673-0f0f-4ef2-a618-7cafc68e6cee"
      },
      "source": [
        " #튜플 실습\n",
        "\n",
        " #딕셔너리 실습\n",
        "\n",
        " #여러 정보의 딕셔너리 표현\n",
        "student1 = {\"학번\":1000, \"이름\":\"홍길동\", \"학과\":\"컴퓨터학과\"}\n",
        "print(student1)\n",
        "\n",
        "#student1에 연락처 추가\n",
        "student1['연락처'] = '010-1111-2222'\n",
        "print(student1)\n",
        "\n",
        "#학과 수정\n",
        "student1['학과'] = '파이썬학과'\n",
        "print(student1)\n",
        "\n",
        "#student1에 학과 삭제\n",
        "del(student1['학과'])\n",
        "print(student1)\n",
        "\n",
        "student1 = {\"학번\":1000, '이름':'홍길동', '학과':'파이썬학과', '학번':2000}\n",
        "print(student1)\n",
        "\n",
        "print(student1['학번'])\n",
        "print(student1['이름'])\n",
        "print(student1['학과'])\n",
        "\n",
        "#딕셔너리명.get(키) 함수를 사용해 키로 값에 접근\n",
        "print(student1.get('이름'))\n",
        "\n",
        "#없는 키를 찾을 때 딕셔너리명.get(키)를 사용\n",
        "#print(student1['주소])\n",
        "print(student1.get('주소'))\n",
        "\n",
        "#딕셔너리명.keys()는 딕셔너리의 모든 키 반환\n",
        "print(student1.keys())\n",
        "print(list(student1.keys()))\n",
        "print(student1.values())\n",
        "\n",
        "#딕셔너리명.items()함수를 사용하면 튜플 형태로도 구할 수 있음\n",
        "print(student1.items())\n",
        "\n",
        "print('이름' in student1)\n",
        "print('주소' in student1)"
      ],
      "execution_count": null,
      "outputs": [
        {
          "output_type": "stream",
          "text": [
            "{'학번': 1000, '이름': '홍길동', '학과': '컴퓨터학과'}\n",
            "{'학번': 1000, '이름': '홍길동', '학과': '컴퓨터학과', '연락처': '010-1111-2222'}\n",
            "{'학번': 1000, '이름': '홍길동', '학과': '파이썬학과', '연락처': '010-1111-2222'}\n",
            "{'학번': 1000, '이름': '홍길동', '연락처': '010-1111-2222'}\n",
            "{'학번': 2000, '이름': '홍길동', '학과': '파이썬학과'}\n",
            "2000\n",
            "홍길동\n",
            "파이썬학과\n",
            "홍길동\n",
            "None\n",
            "dict_keys(['학번', '이름', '학과'])\n",
            "['학번', '이름', '학과']\n",
            "dict_values([2000, '홍길동', '파이썬학과'])\n",
            "dict_items([('학번', 2000), ('이름', '홍길동'), ('학과', '파이썬학과')])\n",
            "True\n",
            "False\n"
          ],
          "name": "stdout"
        }
      ]
    },
    {
      "cell_type": "code",
      "metadata": {
        "id": "zB3mcKWTS4yN"
      },
      "source": [
        "#zip(): 동일한 개수로 이루어진 자료형을 묶어주는 역할을 하는 함수\n",
        "\n",
        "# 원소가 작은 쪽에 맞춰서 쌍을 이루게 해줌"
      ],
      "execution_count": null,
      "outputs": []
    },
    {
      "cell_type": "markdown",
      "metadata": {
        "id": "L2FGtLYAT0f5"
      },
      "source": [
        "과제3\n",
        "\n",
        "3-1\n",
        "\n",
        "2차원 배열 구조를 만들기 ㅣ위해 행, 열 정보를 콤마로 구분해 입력하고, 리스트 0부터 3의 배수를 저장하고 출력하는 프로그램을 작성하십시오. \n",
        "\n",
        "행렬의 행과 열을 입력하시오(예)2, 5 :\n",
        "(사용자로부터 몇행 몇열인지 입력받음)\n",
        "\n",
        "\n",
        "split함수\n",
        "\n",
        "map 함수: 여러 개의 데이터를 한 번에 다른 형태로 변환\n",
        "\n",
        "\n",
        "3-2\n",
        "\n",
        "문자열 압축하기: 각 문자와 연속된 반복 횟수로 표현하는 방법\n",
        "\n",
        "<조건> 압축할 문자열을 사용자로부터 입력 받는다.\n",
        "\n",
        "인풋 스트링 : aaaabbbb\n",
        "\n",
        "a4b4\n",
        "\n",
        "과제 3-3\n",
        "\n",
        "숫자를 입력받아 소수(1과 자기자신)인지 아닌지 판별하는 프로그램\n",
        "\n",
        "<조건> 사용자로부터 양의 정수를 입력받는다\n",
        "\n"
      ]
    },
    {
      "cell_type": "code",
      "metadata": {
        "id": "yQSOcAt-TruR"
      },
      "source": [
        ""
      ],
      "execution_count": null,
      "outputs": []
    }
  ]
}