{
  "nbformat": 4,
  "nbformat_minor": 0,
  "metadata": {
    "colab": {
      "name": "파이썬과데이터분석_실습4_철학과_이로움_1826032.ipynb의 사본",
      "provenance": [],
      "collapsed_sections": []
    },
    "kernelspec": {
      "name": "python3",
      "display_name": "Python 3"
    },
    "language_info": {
      "name": "python"
    }
  },
  "cells": [
    {
      "cell_type": "markdown",
      "metadata": {
        "id": "TqadpOGw1TU0"
      },
      "source": [
        "2021년 4월 12일 실습 4\n",
        "\n",
        "철학과 이로움(학번:1826032) 작성"
      ]
    },
    {
      "cell_type": "code",
      "metadata": {
        "id": "KySnZEQzIit7",
        "colab": {
          "base_uri": "https://localhost:8080/",
          "height": 0
        },
        "outputId": "82f18735-b34f-4c13-ec22-1315bcc64e5c"
      },
      "source": [
        "#함수를 사용한 경우\n",
        "\n",
        "## 전역 변수 선언 부분 ##\n",
        "coffee = 0\n",
        "\n",
        "## 함수 선언 부분 ##\n",
        "def coffee_machine(button) :\n",
        "  print()\n",
        "  print(\"#1. (자동으로) 뜨거운 물을 준비한다.\")\n",
        "  print(\"#2. (자동으로) 종이컵을 준비한다.\")\n",
        "\n",
        "  if button == 1 :\n",
        "    print(\"#3. (자동으로) 보통커피를 탄다.\")\n",
        "  elif button == 2:\n",
        "    print(\"#3. (자동으로) 설탕커피를 탄다.\")\n",
        "  elif button == 3:\n",
        "    print(\"#3. (자동으로) 블랙커피를 탄다.\")\n",
        "  else :\n",
        "    print(\"#3. (자동으로) 아무거나 탄다.\\n\")\n",
        "  \n",
        "  print(\"#4. (자동으로) 물을 붓는다.\")\n",
        "  print(\"#5. (자동으로) 스푼으로 젓는다.\")\n",
        "  print()\n",
        "\n",
        "## 메인 코드 부분 ##\n",
        "coffee = int(input(\"어떤 커피 드릴까요?(1:보통, 2:설탕, 3:블랙)\"))\n",
        "coffee_machine(coffee)\n",
        "print(\"손님~ 커피 여기 있습니다.\")\n",
        "\n",
        "coffee = int(input(\"어떤 커피 드릴까요?(1:보통, 2:설탕, 3:블랙)\"))\n",
        "coffee_machine(coffee)\n",
        "print(\"손님~ 커피 여기 있습니다.\")"
      ],
      "execution_count": 1,
      "outputs": [
        {
          "output_type": "stream",
          "text": [
            "어떤 커피 드릴까요?(1:보통, 2:설탕, 3:블랙)1\n",
            "\n",
            "#1. (자동으로) 뜨거운 물을 준비한다.\n",
            "#2. (자동으로) 종이컵을 준비한다.\n",
            "#3. (자동으로) 보통커피를 탄다.\n",
            "#4. (자동으로) 물을 붓는다.\n",
            "#5. (자동으로) 스푼으로 젓는다.\n",
            "\n",
            "손님~ 커피 여기 있습니다.\n",
            "어떤 커피 드릴까요?(1:보통, 2:설탕, 3:블랙)3\n",
            "\n",
            "#1. (자동으로) 뜨거운 물을 준비한다.\n",
            "#2. (자동으로) 종이컵을 준비한다.\n",
            "#3. (자동으로) 블랙커피를 탄다.\n",
            "#4. (자동으로) 물을 붓는다.\n",
            "#5. (자동으로) 스푼으로 젓는다.\n",
            "\n",
            "손님~ 커피 여기 있습니다.\n"
          ],
          "name": "stdout"
        }
      ]
    },
    {
      "cell_type": "markdown",
      "metadata": {
        "id": "9TVcg5aY2A-S"
      },
      "source": [
        "실습5: 덧셈, 뺄셈, 곱셈, 나눗셈을 하는 계산기 함수를 작성"
      ]
    },
    {
      "cell_type": "code",
      "metadata": {
        "colab": {
          "base_uri": "https://localhost:8080/"
        },
        "id": "-sOYP76sRCZh",
        "outputId": "fe9f0656-8b4c-4c13-809a-b3921845fcb8"
      },
      "source": [
        "## 함수 선언 부분 ##\n",
        "def calc(v1, v2, op):\n",
        "  result = 0\n",
        "  if op == '+':\n",
        "    result = v1 + v2\n",
        "  elif op == '-':\n",
        "    result = v1 - v2\n",
        "  elif op == '*':\n",
        "    result = v1 * v2\n",
        "  elif op == '/':\n",
        "    result = v1 / v2\n",
        "  \n",
        "  return result\n",
        "\n",
        "## 전역 변수 선언 부분 ##\n",
        "res = 0\n",
        "var1, var2, oper = 0, 0, \"\"\n",
        "\n",
        "## 메인 코드 부분 ##\n",
        "oper = input(\"계산을 입력하세요(+, -, *, /) : \")\n",
        "var1 = int(input(\"첫 번째 수를 입력하세요 : \"))\n",
        "var2 = int(input(\"두 번째 수를 입력하세요 : \"))\n",
        "\n",
        "res = calc(var1, var2, oper)\n",
        "\n",
        "print(\"## 계산기 : %d %s %d = %d\" %(var1, oper, var2, res))"
      ],
      "execution_count": null,
      "outputs": [
        {
          "output_type": "stream",
          "text": [
            "계산을 입력하세요(+, -, *, /) : *\n",
            "첫 번째 수를 입력하세요 : 7\n",
            "두 번째 수를 입력하세요 : 5\n",
            "## 계산기 : 7 * 5 = 35\n"
          ],
          "name": "stdout"
        }
      ]
    },
    {
      "cell_type": "markdown",
      "metadata": {
        "id": "nWvyR6nZ2ZfR"
      },
      "source": [
        "실습7: 반환값이 여러 개인 함수"
      ]
    },
    {
      "cell_type": "code",
      "metadata": {
        "colab": {
          "base_uri": "https://localhost:8080/"
        },
        "id": "a9mAxfyHUKuw",
        "outputId": "3475c92a-c850-458d-cea8-080f4cfeb2b9"
      },
      "source": [
        "# 반환값이 여러 개인 함수\n",
        "#1)리스트 사용\n",
        "#2)return 뒤에 값 많이 쓰기\n",
        "\n",
        "## 함수 선언 부분 ##\n",
        "def multi(v1, v2):\n",
        "  retList = []   #반환할 리스트\n",
        "  res1 = v1 + v2\n",
        "  res2 = v1 - v2\n",
        "  retList.append(res1)\n",
        "  retList.append(res2)\n",
        "  return retList\n",
        "  #return a, b\n",
        "\n",
        "## 전역 변수 선언 부분 ##\n",
        "myList = []\n",
        "hap, sub = 0, 0\n",
        "\n",
        "## 메인 코드 부분 ##\n",
        "myList = multi(100, 200)\n",
        "#a1,b2 = multi(100, 200)\n",
        "hap = myList[0]\n",
        "sub = myList[1]\n",
        "print(\"multi()에서 돌려준 값 ==> %d. %d\" % (hap, sub))"
      ],
      "execution_count": null,
      "outputs": [
        {
          "output_type": "stream",
          "text": [
            "multi()에서 돌려준 값 ==> 300. -100\n"
          ],
          "name": "stdout"
        }
      ]
    },
    {
      "cell_type": "markdown",
      "metadata": {
        "id": "Vz156mjP2oRx"
      },
      "source": [
        "실습8: global 예약어"
      ]
    },
    {
      "cell_type": "code",
      "metadata": {
        "colab": {
          "base_uri": "https://localhost:8080/"
        },
        "id": "DLgnF4ruS0yz",
        "outputId": "c7b20808-78ab-4ccb-ac89-9a5e45bdb04d"
      },
      "source": [
        "## 함수 선언 부분 ##\n",
        "def func1():\n",
        "  global a     #이 함수 안에서 a는 전역변수\n",
        "  a = 10\n",
        "  print(\"func1()에서 a값 %d\" % a)\n",
        "\n",
        "def func2():\n",
        "  print(\"func2()에서 a값 %d\" % a)\n",
        "\n",
        "## 함수 변수 선언 부분 ##\n",
        "a = 20     # 전역 변수\n",
        "\n",
        "## 메인 코드 부분 ##\n",
        "func1()\n",
        "func2()"
      ],
      "execution_count": null,
      "outputs": [
        {
          "output_type": "stream",
          "text": [
            "func1()에서 a값 10\n",
            "func2()에서 a값 10\n"
          ],
          "name": "stdout"
        }
      ]
    },
    {
      "cell_type": "code",
      "metadata": {
        "id": "Iuf9IXDFWMSv"
      },
      "source": [
        ""
      ],
      "execution_count": null,
      "outputs": []
    }
  ]
}