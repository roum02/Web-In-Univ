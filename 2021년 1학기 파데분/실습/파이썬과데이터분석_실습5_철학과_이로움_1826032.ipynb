{
  "nbformat": 4,
  "nbformat_minor": 0,
  "metadata": {
    "colab": {
      "name": "파이썬과데이터분석_실습5_철학과_이로움_1826032",
      "provenance": [],
      "collapsed_sections": []
    },
    "kernelspec": {
      "name": "python3",
      "display_name": "Python 3"
    },
    "language_info": {
      "name": "python"
    }
  },
  "cells": [
    {
      "cell_type": "markdown",
      "metadata": {
        "id": "TPx_StApdH63"
      },
      "source": [
        "2021년 4월 22일 실습5\n",
        "\n",
        "철학과 이로움(학번:1826032) 작성"
      ]
    },
    {
      "cell_type": "markdown",
      "metadata": {
        "id": "OeAhmrLcdvfS"
      },
      "source": [
        "실습: 메모장 프로그램\n"
      ]
    },
    {
      "cell_type": "code",
      "metadata": {
        "colab": {
          "base_uri": "https://localhost:8080/"
        },
        "id": "C5cRW8END_L3",
        "outputId": "abdc9517-bb12-4aa5-83b0-7d38caa70d3f"
      },
      "source": [
        "#구글 드라이브와 연동\n",
        "from google.colab import drive\n",
        "drive.mount('/content/drive')\n",
        "directory_path = '/content/drive/MyDrive/2021-1학기/파데분/실습/'"
      ],
      "execution_count": null,
      "outputs": [
        {
          "output_type": "stream",
          "text": [
            "Mounted at /content/drive\n"
          ],
          "name": "stdout"
        }
      ]
    },
    {
      "cell_type": "code",
      "metadata": {
        "colab": {
          "base_uri": "https://localhost:8080/"
        },
        "id": "_EyGoZLVE5nJ",
        "outputId": "42976db0-adde-4634-cee9-274da020c181"
      },
      "source": [
        "def write_your_memo(mode):\n",
        "  f = open(directory_path+'memo.txt',mode)\n",
        "  memo = input('input your memo>') + '\\r\\n'\n",
        "  f.write(memo)\n",
        "  f.close()\n",
        "\n",
        "mode = input('w : New memo note, a : Append your memo?')\n",
        "\n",
        "if mode == 'w' or mode =='a':\n",
        "  write_your_memo(mode)\n",
        "  if mode == 'w':\n",
        "    print('Wrote your memo to a new note.')\n",
        "  else:\n",
        "    print(\"Appended your memo.\")\n",
        "else:\n",
        "  print(\"Wrong command\")\n",
        "  "
      ],
      "execution_count": null,
      "outputs": [
        {
          "output_type": "stream",
          "text": [
            "w : New memo note, a : Append your memo?a\n",
            "input your memo>good night\n",
            "Appended your memo.\n"
          ],
          "name": "stdout"
        }
      ]
    },
    {
      "cell_type": "code",
      "metadata": {
        "id": "V-oAkUxMG-2n"
      },
      "source": [
        ""
      ],
      "execution_count": null,
      "outputs": []
    }
  ]
}