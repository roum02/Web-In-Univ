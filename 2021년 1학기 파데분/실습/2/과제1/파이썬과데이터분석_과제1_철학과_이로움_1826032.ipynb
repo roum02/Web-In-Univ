{
  "nbformat": 4,
  "nbformat_minor": 0,
  "metadata": {
    "colab": {
      "name": "파이썬과데이터분석_과제1_철학과_이로움_1826032.ipynb",
      "provenance": []
    },
    "kernelspec": {
      "name": "python3",
      "display_name": "Python 3"
    },
    "language_info": {
      "name": "python"
    }
  },
  "cells": [
    {
      "cell_type": "markdown",
      "metadata": {
        "id": "cd1W_uc0leqk"
      },
      "source": [
        "2021년 3월 15일 과제1\n",
        "\n",
        "철학과 이로움(학번: 1826032) 작성"
      ]
    },
    {
      "cell_type": "markdown",
      "metadata": {
        "id": "mC1Zq_x6lpMk"
      },
      "source": [
        "지하철 자동 발권 프로그램 \n",
        "\n",
        "1구간:700원 2구간:900원 \n",
        "\n",
        "1. 투입한 금액과 구입할 각 구간의 표의 개수를 입력 받기 \n",
        "\n",
        "2. 입력받은 돈에서 표값을 제외한 잔돈을 계산하고 출력하기 \n",
        "\n",
        "3. 잔돈을 돌려주기 위한 1000원, 100원 지폐의 개수를 계산하고 출력하기\n"
      ]
    },
    {
      "cell_type": "code",
      "metadata": {
        "colab": {
          "base_uri": "https://localhost:8080/",
          "height": 0
        },
        "id": "IxXkE8tDlY1A",
        "outputId": "10383368-a8bb-442c-a0bc-2f104dfaff15"
      },
      "source": [
        "def subwayTicket():\n",
        "  money = int(input('투입한 돈은?')) #들어온 String변수를 정수로 바꾸어 받은 돈을 변수로 저장\n",
        "  section1 = int(input('1구간 표의 수는?')) #1구간 표의 수를 정수로 받음\n",
        "  section2 = int(input('2구간 표의 수는?'))\n",
        "  change = money - ((section1*700)+(section2*900)) \n",
        "  #거스름돈을 계산하기 위해 투입한 돈에서 1구간과 2구간만큼의 표값을 뺌\n",
        "  \n",
        "  if change >= 0:\n",
        "    print('잔돈', change, '원')              #잔돈이 0보다 크면 거스름돈을 제공함\n",
        "    thousand = change//1000                  #천원 거스름돈: 1000으로 나눔\n",
        "    hundred = (change-(thousand*1000))//100  #백원 거스름돈: 천의 자리를 제거하고 100으로 나눔\n",
        "    print('1000원 지폐:',thousand,'장')\n",
        "    print('100원 동전:', hundred,'개')\n",
        "  else:                                      #잔돈이 0보다 작으면 금액이 부족함\n",
        "    print('금액이 부족합니다.')\n",
        "\n",
        "subwayTicket()"
      ],
      "execution_count": 10,
      "outputs": [
        {
          "output_type": "stream",
          "text": [
            "투입한 돈은?10000\n",
            "1구간 표의 수는?2\n",
            "2구간 표의 수는?5\n",
            "잔돈 4100 원\n",
            "1000원 지폐: 4 장\n",
            "100원 동전: 1 개\n"
          ],
          "name": "stdout"
        }
      ]
    },
    {
      "cell_type": "code",
      "metadata": {
        "id": "puGJTkflrMn2"
      },
      "source": [
        ""
      ],
      "execution_count": null,
      "outputs": []
    }
  ]
}