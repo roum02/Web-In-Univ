{
  "nbformat": 4,
  "nbformat_minor": 0,
  "metadata": {
    "colab": {
      "name": "파이썬과데이터분석_실습1_철학과_이로움_1826032.ipynb.ipynb",
      "provenance": [],
      "collapsed_sections": []
    },
    "kernelspec": {
      "name": "python3",
      "display_name": "Python 3"
    }
  },
  "cells": [
    {
      "cell_type": "markdown",
      "metadata": {
        "id": "wBxaDVuDvBWx"
      },
      "source": [
        "\r\n",
        "2021년 3월 15일 실습1\r\n",
        "\r\n",
        "철학과 이로움(학번: 1826032) 작성"
      ]
    },
    {
      "cell_type": "markdown",
      "metadata": {
        "id": "ZCeSnYATvFN0"
      },
      "source": [
        "실습1\r\n",
        "\r\n",
        "type()함수 : 데이터 타입을 확인할 수 있는 함수"
      ]
    },
    {
      "cell_type": "code",
      "metadata": {
        "colab": {
          "base_uri": "https://localhost:8080/"
        },
        "id": "SYfrLf5Ru--N",
        "outputId": "956ab33e-4f16-4d61-9787-f29c1011890e"
      },
      "source": [
        "boolVar = True\r\n",
        "intVar_ = 0\r\n",
        "floatVar = 0.0\r\n",
        "str = \"\"\r\n",
        "#_int = 1   #언더바로 시작할 수는 있음\r\n",
        "#1_int = 1  #그러나 숫자로 시작하면 에러가 난다.\r\n",
        "\r\n",
        "myVar = 100\r\n",
        "print(type(myVar))\r\n",
        "myVar = 100.0   #다른 언어와 달리 파이썬은 다른 데이터 타입도 대입 가능함. \r\n",
        "print(type(myVar))"
      ],
      "execution_count": 9,
      "outputs": [
        {
          "output_type": "stream",
          "text": [
            "<class 'int'>\n",
            "<class 'float'>\n"
          ],
          "name": "stdout"
        }
      ]
    },
    {
      "cell_type": "markdown",
      "metadata": {
        "id": "QwhvIvJty17l"
      },
      "source": [
        "id() 함수 : 변수가 가리키고 있는 객체의 주소 값을 돌려주는 파이썬 내장 함수\r\n",
        "\r\n",
        "변수는 주소값을 참조하는 것인데, id함수가 그것을 알려줌."
      ]
    },
    {
      "cell_type": "code",
      "metadata": {
        "colab": {
          "base_uri": "https://localhost:8080/"
        },
        "id": "7Qb3IJt3y4NE",
        "outputId": "f51209cb-4caf-40b9-b1db-dd10b5d3d98a"
      },
      "source": [
        "a = 100\r\n",
        "b = 50\r\n",
        "\r\n",
        "print(id(a))\r\n",
        "print(id(100))    #100이라는 숫자의 참조값도 a의 참조값과 같음. \r\n",
        "print(id(b))\r\n",
        "print(id(50))\r\n",
        "a = 50\r\n",
        "print(id(a))\r\n",
        "print(id(b))"
      ],
      "execution_count": 8,
      "outputs": [
        {
          "output_type": "stream",
          "text": [
            "94796286015072\n",
            "94796286015072\n",
            "94796286013472\n",
            "94796286013472\n",
            "94796286013472\n",
            "94796286013472\n"
          ],
          "name": "stdout"
        }
      ]
    },
    {
      "cell_type": "markdown",
      "metadata": {
        "id": "Lc2tm5s7vOLM"
      },
      "source": [
        "실습 4 : 문자형"
      ]
    },
    {
      "cell_type": "code",
      "metadata": {
        "colab": {
          "base_uri": "https://localhost:8080/"
        },
        "id": "kkP7yChfvJvV",
        "outputId": "0ff69470-68fb-4262-bd12-fe03a997d73d"
      },
      "source": [
        "a = \"파이썬 만세\"\r\n",
        "\r\n",
        "print(a)\r\n",
        "print(type(a))\r\n",
        "\r\n",
        "#문자열 중간에 작은따옴표나 큰따옴표를 출력하고 싶다면 다른 따옴표로 묶어주어야 함.\r\n",
        "\r\n",
        "print(\"작은따옴표는 '모양이다\")\r\n",
        "print('큰따옴표는 \"모양이다')\r\n",
        "\r\n",
        "#역슬래시(\\)\r\n",
        "\r\n",
        "a = \"이건 큰다옴표는 \\\" 모양이다\"\r\n",
        "b = '이건 작은따옴표는 \\'모양이다'\r\n",
        "print(a, b)\r\n",
        "\r\n",
        "a = '파이썬 \\n만세'\r\n",
        "print(a)\r\n",
        "\r\n",
        "#큰따옴표나 작은 따옴표 3개 (\"\"\")묶어서 여러 줄로 표현\r\n",
        "a = \"\"\"파이썬\r\n",
        "만세\"\"\"\r\n",
        "#b = \"파이썬      #이와 같이 여러 줄에 걸치면 오류가 뜬다.\r\n",
        "#만세\"\r\n",
        "print(a)\r\n",
        "\r\n",
        "#부여된 순서 번호로 각 문자 접근\r\n",
        "a = '1$ 환율은 1100입니다.'\r\n",
        "a = \"currency exchange rates\"\r\n",
        "print(\"=======================\")\r\n",
        "print(\"01234567890123456789012\")\r\n",
        "print(a)\r\n",
        "print(\"=======================\")\r\n",
        "print(a[0])\r\n",
        "print(a[1])\r\n",
        "print(a[-1])\r\n",
        "print(a[-2])\r\n",
        "print(a[7:14])"
      ],
      "execution_count": 10,
      "outputs": [
        {
          "output_type": "stream",
          "text": [
            "파이썬 만세\n",
            "<class 'str'>\n",
            "작은따옴표는 '모양이다\n",
            "큰따옴표는 \"모양이다\n",
            "이건 큰다옴표는 \" 모양이다 이건 작은따옴표는 '모양이다\n",
            "파이썬 \n",
            "만세\n",
            "파이썬\n",
            "만세\n",
            "=======================\n",
            "01234567890123456789012\n",
            "currency exchange rates\n",
            "=======================\n",
            "c\n",
            "u\n",
            "s\n",
            "e\n",
            "y excha\n"
          ],
          "name": "stdout"
        }
      ]
    },
    {
      "cell_type": "markdown",
      "metadata": {
        "id": "DihomFv4vYmb"
      },
      "source": [
        "실습:   문자열 \"100\" vs 숫자 100"
      ]
    },
    {
      "cell_type": "code",
      "metadata": {
        "colab": {
          "base_uri": "https://localhost:8080/",
          "height": 0
        },
        "id": "r9e_tnTvvR3o",
        "outputId": "f43b44e6-6c95-45c6-f40f-de1f090f2fcb"
      },
      "source": [
        "num = 100\r\n",
        "strNum = \"100\"\r\n",
        "\r\n",
        "print(type(num))\r\n",
        "print(type(strNum))\r\n",
        "\r\n",
        "print(num+num)\r\n",
        "print(strNum+strNum)\r\n",
        "#print(strNum+num)"
      ],
      "execution_count": 3,
      "outputs": [
        {
          "output_type": "stream",
          "text": [
            "<class 'int'>\n",
            "<class 'str'>\n",
            "200\n",
            "100100\n"
          ],
          "name": "stdout"
        }
      ]
    },
    {
      "cell_type": "markdown",
      "metadata": {
        "id": "zGvPuWlYvdSr"
      },
      "source": [
        "실습5: 수식의 표현"
      ]
    },
    {
      "cell_type": "code",
      "metadata": {
        "colab": {
          "base_uri": "https://localhost:8080/",
          "height": 0
        },
        "id": "h5Mdb2ROvaOy",
        "outputId": "e0328979-bf9b-43ea-9308-b3603e73e273"
      },
      "source": [
        "a = 5; b = 3\r\n",
        "print(a+b, a-b, a*b, a/b, a//b, a%b, a**b)\r\n",
        "\r\n",
        "c = 7; d = 9\r\n",
        "print(c, d)\r\n",
        "\r\n",
        "e, f = 11, 13\r\n",
        "print(e, f)\r\n",
        "\r\n",
        "#연산자 우선 순위\r\n",
        "print(\"연산자 우선 순위\")\r\n",
        "a, b, c = 2, 3, 4\r\n",
        "print(a+b-c, a+b*c, a+b/c)"
      ],
      "execution_count": 7,
      "outputs": [
        {
          "output_type": "stream",
          "text": [
            "8 2 15 1.6666666666666667 1 2 125\n",
            "7 9\n",
            "11 13\n",
            "연산자 우선 순위\n",
            "1 14 2.75\n"
          ],
          "name": "stdout"
        }
      ]
    },
    {
      "cell_type": "markdown",
      "metadata": {
        "id": "ka3pa1lMvj77"
      },
      "source": [
        "실습10: 입력과 출력"
      ]
    },
    {
      "cell_type": "code",
      "metadata": {
        "colab": {
          "base_uri": "https://localhost:8080/",
          "height": 0
        },
        "id": "lknf_yMIvgZz",
        "outputId": "b8929879-b336-4ff7-f2f4-0a980ee82df6"
      },
      "source": [
        "# 사용자와 개발자\r\n",
        "\r\n",
        "print(\"Hello World!\")\r\n",
        "\r\n",
        "eng = input(\"영어 점수를 입력하시오: \")   #사용자로부터 입력을 받는 것\r\n",
        "math = input(\"수학 점수를 입력하시오: \") \r\n",
        "\r\n",
        "# eng = 100 #개발자가 값을 넣은 것\r\n",
        "\r\n",
        "totalScore = eng + math\r\n",
        "print(\"총점 = \", totalScore)\r\n",
        "\r\n",
        "eng = int(input(\"영어 점수를 입력하시오: \"))\r\n",
        "math = int(input(\"수학 점수를 입력하시오: \"))\r\n",
        "totalScore = eng + math\r\n",
        "print(\"총점 = \", totalScore)\r\n",
        "\r\n",
        "name = input(\"이름을 입력하시오: \")\r\n",
        "print(name + '님 반갑습니다.')"
      ],
      "execution_count": 6,
      "outputs": [
        {
          "output_type": "stream",
          "text": [
            "Hello World!\n",
            "영어 점수를 입력하시오: 50\n",
            "수학 점수를 입력하시오: 50\n",
            "총점 =  5050\n",
            "영어 점수를 입력하시오: 50\n",
            "수학 점수를 입력하시오: 50\n",
            "총점 =  100\n",
            "이름을 입력하시오: 50\n",
            "50님 반갑습니다.\n"
          ],
          "name": "stdout"
        }
      ]
    },
    {
      "cell_type": "code",
      "metadata": {
        "id": "nKz8Cw6xvjKH"
      },
      "source": [
        ""
      ],
      "execution_count": null,
      "outputs": []
    }
  ]
}