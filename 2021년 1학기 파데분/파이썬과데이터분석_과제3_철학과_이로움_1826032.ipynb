{
  "nbformat": 4,
  "nbformat_minor": 0,
  "metadata": {
    "colab": {
      "name": "파이썬과데이터분석_과제3_철학과_이로움_1826032",
      "provenance": [],
      "collapsed_sections": []
    },
    "kernelspec": {
      "name": "python3",
      "display_name": "Python 3"
    },
    "language_info": {
      "name": "python"
    }
  },
  "cells": [
    {
      "cell_type": "markdown",
      "metadata": {
        "id": "uP7LyqdbFo_7"
      },
      "source": [
        "2021년 4월 5일 과제3\n",
        "\n",
        "철학과 이로움(학번:1826032) 작성"
      ]
    },
    {
      "cell_type": "markdown",
      "metadata": {
        "id": "rHkY41ohWNC5"
      },
      "source": [
        "실습1. 리스트 만들기\n",
        "\n",
        "실습2. 리스트에 원소 추가\n",
        "\n",
        "실습5. 리스트 값에 접근하는 다양한 방법\n",
        "\n",
        "실습6. 리스트 함수\n",
        "\n",
        "실습 2차원 리스트\n",
        "\n",
        "\n",
        "딕셔너리 실습"
      ]
    },
    {
      "cell_type": "markdown",
      "metadata": {
        "id": "jF_122At6mnM"
      },
      "source": [
        "# 과제3"
      ]
    },
    {
      "cell_type": "markdown",
      "metadata": {
        "id": "JZ9EYW_Q6sHD"
      },
      "source": [
        "과제 3-1 \n",
        "\n",
        "다음과 같이 2차원 배열 구조를 만들기 위한 행, 열 정보를 콤마(,)로 구분해 입력하고, \n",
        "\n",
        "이 리스트 0부터 3의 배수를 저장하고 출력하는 프로그램을 작성하십시오."
      ]
    },
    {
      "cell_type": "code",
      "metadata": {
        "id": "yQSOcAt-TruR",
        "colab": {
          "base_uri": "https://localhost:8080/"
        },
        "outputId": "a61e8fd8-58d7-4065-ba23-b69ff7a8f65c"
      },
      "source": [
        "#실행 결과\n",
        "\n",
        "def DoubleList():\n",
        "  #행/열 값 입력받고 문자열로 저장\n",
        "  matrix = input(\"행렬의 행과 열을 입력하시오 (예)2,5 :\")   \n",
        "\n",
        "  #map함수를 이용하여 문자열을 나눈 후 인수형으로 변환\n",
        "  matrix_list = list(map(int, matrix.split(',')))\n",
        "\n",
        "  #이차원 리스트를 만들기 위한 초기화\n",
        "  #row_list가 '행'값\n",
        "  #column이 '열'값\n",
        "  row_list = []\n",
        "  column_list = []\n",
        "  value = 0\n",
        "\n",
        "  #이차원 리스트를 위한 반복문\n",
        "  #matrix_list[0]이 '행'값\n",
        "  #matrix_list[1]이 '열'값\n",
        "  for i in range(0, matrix_list[0]): \n",
        "    for k in range(0, matrix_list[1]):\n",
        "      row_list.append(value)\n",
        "      #3의 배수 계산 위함\n",
        "      value += 3\n",
        "    #리스트 안에 리스트를 담음\n",
        "    column_list.append(row_list)\n",
        "    #row_list 다음 행 담기 위해 초기화\n",
        "    row_list = []\n",
        "  return column_list\n",
        "\n",
        "\n",
        "\n",
        "DoubleList()"
      ],
      "execution_count": 29,
      "outputs": [
        {
          "output_type": "stream",
          "text": [
            "행렬의 행과 열을 입력하시오 (예)2,5 :3,5\n"
          ],
          "name": "stdout"
        },
        {
          "output_type": "execute_result",
          "data": {
            "text/plain": [
              "[[0, 3, 6, 9, 12], [15, 18, 21, 24, 27], [30, 33, 36, 39, 42]]"
            ]
          },
          "metadata": {
            "tags": []
          },
          "execution_count": 29
        }
      ]
    },
    {
      "cell_type": "code",
      "metadata": {
        "id": "pplo92Eh62JU"
      },
      "source": [
        "#실행 결과"
      ],
      "execution_count": null,
      "outputs": []
    },
    {
      "cell_type": "markdown",
      "metadata": {
        "id": "L2FGtLYAT0f5"
      },
      "source": [
        "3-1\n",
        "\n",
        "2차원 배열 구조를 만들기 ㅣ위해 행, 열 정보를 콤마로 구분해 입력하고, 리스트 0부터 3의 배수를 저장하고 출력하는 프로그램을 작성하십시오. \n",
        "\n",
        "행렬의 행과 열을 입력하시오(예)2, 5 :\n",
        "(사용자로부터 몇행 몇열인지 입력받음)\n",
        "\n",
        "\n",
        "split함수\n",
        "\n",
        "map 함수: 여러 개의 데이터를 한 번에 다른 형태로 변환\n",
        "\n",
        "\n",
        "3-2\n",
        "\n",
        "문자열 압축하기: 각 문자와 연속된 반복 횟수로 표현하는 방법\n",
        "\n",
        "<조건> 압축할 문자열을 사용자로부터 입력 받는다.\n",
        "\n",
        "인풋 스트링 : aaaabbbb\n",
        "\n",
        "a4b4\n",
        "\n",
        "과제 3-3\n",
        "\n",
        "숫자를 입력받아 소수(1과 자기자신)인지 아닌지 판별하는 프로그램\n",
        "\n",
        "<조건> 사용자로부터 양의 정수를 입력받는다\n",
        "\n"
      ]
    }
  ]
}