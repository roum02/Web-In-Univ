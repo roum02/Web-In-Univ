{
  "nbformat": 4,
  "nbformat_minor": 0,
  "metadata": {
    "colab": {
      "name": "피로그래밍_구현.ipynb",
      "provenance": [],
      "collapsed_sections": []
    },
    "kernelspec": {
      "name": "python3",
      "display_name": "Python 3"
    },
    "language_info": {
      "name": "python"
    }
  },
  "cells": [
    {
      "cell_type": "markdown",
      "metadata": {
        "id": "6rXrP2IzVdXa"
      },
      "source": [
        "사용방법: 가장 위의 셀부터 shift + enter 누르시면 구현 결과를 확인하실 수 있습니다."
      ]
    },
    {
      "cell_type": "code",
      "metadata": {
        "id": "r1-mH8llxddN"
      },
      "source": [
        "import random\n",
        "import time\n",
        "\n",
        "c_list = []\n",
        "v_list = []\n",
        "i_list = []\n",
        "\n",
        "def start_game():\n",
        "  #1. 캐릭터 생성\n",
        "  print(\"******************* 게임 접속 *******************\")\n",
        "  p1 = c_list.append(input(\"1의 이름을 입력해주세요:\"))\n",
        "  p2 = c_list.append(input(\"2의 이름을 입력해주세요:\"))\n",
        "  p3 = c_list.append(input(\"3의 이름을 입력해주세요:\"))\n",
        "  p4 = c_list.append(input(\"4의 이름을 입력해주세요:\"))\n",
        "  p5 = c_list.append(input(\"5의 이름을 입력해주세요:\"))\n",
        "\n",
        "  print(\"******************* 캐릭터 선택 *******************\")\n",
        "  #2. 고유 속도 설정\n",
        "  for i in range(len(c_list)):\n",
        "    v = int(input(\"%s 의 캐릭터 선택 차례입니다. 1,2,3 중 하나의 값을 입력해주세요.\" %c_list[i]))\n",
        "    if v == 1:\n",
        "      v_list.append(115)\n",
        "      print(\"%s 의 고유 속도는 시속 115입니다.\" %c_list[i])\n",
        "    elif v == 2:\n",
        "      v_list.append(156)\n",
        "      print(\"%s 의 고유 속도는 시속 156입니다.\" %c_list[i])\n",
        "    elif v == 3:\n",
        "      v_list.append(136)\n",
        "      print(\"%s 의 고유 속도는 시속 136입니다.\" %c_list[i])\n",
        "  items()\n",
        "    \n",
        "    \n",
        "#두 종류의 아이템 선정\n",
        "def items():\n",
        "  banana_n = random.randint(20, 40)\n",
        "  booster_n = random.randint(30, 60)\n",
        "  i_list.append([\"banana_slip\",banana_n])\n",
        "  i_list.append([\"booster\", booster_n])\n"
      ],
      "execution_count": null,
      "outputs": []
    },
    {
      "cell_type": "code",
      "metadata": {
        "colab": {
          "base_uri": "https://localhost:8080/"
        },
        "id": "nJQq5_Pny9ON",
        "outputId": "2ca12e77-0d30-4fbf-97f5-9fe04b7db466"
      },
      "source": [
        "import time\n",
        "#총 합산 시간 리스트\n",
        "total_time_list = [0,0,0,0,0,0]\n",
        "\n",
        "def play_round():\n",
        "  #임시 속도 리스트\n",
        "  v_list_tem = []\n",
        "  t_list_tem = []\n",
        "\n",
        "  #라운드 시작 전, 트랙의 길이를 변수에 저장하고 출력\n",
        "  track = random.randint(5,30)\n",
        "  print(\"이번 라운드의 트랙 길이는 %d km 입니다.\" %track)\n",
        "\n",
        "  # 5명의 플레이어에게 아이템을 랜덤하게 적용시키고, 적용된 아이템과 적용 후 플레이어의 속도를 출력해주세요\n",
        "  print(\"[아이템 적용]\")\n",
        "  for i in range(len(c_list)):\n",
        "    #임시 속도 변수\n",
        "    v_tem = 0\n",
        "    items()\n",
        "    random_item = random.choice(i_list)\n",
        "    if random_item[0] == \"banana_slip\":\n",
        "      #임시 속도\n",
        "      v_tem = v_list[i]-random_item[1]\n",
        "      v_list_tem.append(v_tem)\n",
        "    elif random_item[0] == \"booster\":\n",
        "      #임시 속도\n",
        "      v_tem = v_list[i]+random_item[1]\n",
        "      v_list_tem.append(v_tem)\n",
        "    print(\"Player %s는 %s 덕분에 시속 %d로 이번 트랙을 질주합니다! 화이팅\" %(c_list[i],random_item[0], v_tem))\n",
        "  #[라운드 진행]\n",
        "  print(\"[경기 진행중...]\")\n",
        "  print(\"[라운드 결과]\")\n",
        "  \n",
        "  #[라운드 종료 후]\n",
        "  # TODO (2) : 플레이어가 트랙을 도는 데 걸린 시간을 초 단위로 출력하고, 플레이어의 경기 기록에 추가해주세요.\n",
        "  #시간: 거리/속도 구하기\n",
        "  for i in range(len(c_list)):\n",
        "    t = (track/v_list_tem[i])*3600\n",
        "    t_list_tem.append(t)\n",
        "\n",
        "    #총 합산 시간\n",
        "    total_time_list[i] = total_time_list[i] + t\n",
        "  \n",
        "    print(\"Player %s의 주행 시간: %s\" %(c_list[i], t))\n",
        "\n",
        "  \n",
        "  \n",
        "\n",
        "play_round()"
      ],
      "execution_count": null,
      "outputs": [
        {
          "output_type": "stream",
          "text": [
            "이번 라운드의 트랙 길이는 21 km 입니다.\n",
            "[아이템 적용]\n",
            "Player 피는 booster 덕분에 시속 150로 이번 트랙을 질주합니다! 화이팅\n",
            "Player 로는 banana_slip 덕분에 시속 130로 이번 트랙을 질주합니다! 화이팅\n",
            "Player 그는 banana_slip 덕분에 시속 108로 이번 트랙을 질주합니다! 화이팅\n",
            "Player 래는 banana_slip 덕분에 시속 81로 이번 트랙을 질주합니다! 화이팅\n",
            "Player 밍는 banana_slip 덕분에 시속 130로 이번 트랙을 질주합니다! 화이팅\n",
            "[경기 진행중...]\n",
            "[라운드 결과]\n",
            "Player 피의 주행 시간: 504.00000000000006\n",
            "Player 로의 주행 시간: 581.5384615384615\n",
            "Player 그의 주행 시간: 700.0\n",
            "Player 래의 주행 시간: 933.3333333333333\n",
            "Player 밍의 주행 시간: 581.5384615384615\n"
          ],
          "name": "stdout"
        }
      ]
    },
    {
      "cell_type": "code",
      "metadata": {
        "colab": {
          "base_uri": "https://localhost:8080/"
        },
        "id": "NImFKq9N4HSt",
        "outputId": "1b93395a-6657-4a3c-cc49-cd3059a9b16e"
      },
      "source": [
        "from operator import itemgetter\n",
        "#사용자 포함 리스트\n",
        "total_list = []\n",
        "\n",
        "def game_result():\n",
        "  #사용자를 합산 기록 순으로 정렬하고, 상위 3명의 경기 기록 합산을 출력합니다.\n",
        "  for i in range(len(c_list)):\n",
        "    total_list.append([c_list[i], total_time_list[i]])\n",
        "\n",
        "  total_list.sort(key=itemgetter(-1), reverse=False)\n",
        "  for i in range(3):\n",
        "    print(i+1,\"위: %s (총 주행 시간: %s 초)\" %(total_list[i][0], total_list[i][-1]))\n",
        "game_result()"
      ],
      "execution_count": null,
      "outputs": [
        {
          "output_type": "stream",
          "text": [
            "1 위: 피 (총 주행 시간: 504.00000000000006 초)\n",
            "2 위: 로 (총 주행 시간: 581.5384615384615 초)\n",
            "3 위: 밍 (총 주행 시간: 581.5384615384615 초)\n"
          ],
          "name": "stdout"
        }
      ]
    },
    {
      "cell_type": "code",
      "metadata": {
        "colab": {
          "base_uri": "https://localhost:8080/"
        },
        "id": "J6_5OubxHxOd",
        "outputId": "8abec160-a83a-41a9-d833-ab5386a03214"
      },
      "source": [
        "##최종 구현 코드##\n",
        "\n",
        "import random\n",
        "import time\n",
        "#총 합산 시간 리스트\n",
        "total_time_list = [0,0,0,0,0,0]\n",
        "from operator import itemgetter\n",
        "#사용자 포함 리스트\n",
        "total_list = []\n",
        "\n",
        "c_list = []\n",
        "v_list = []\n",
        "i_list = []\n",
        "\n",
        "def game():\n",
        "  start_game()\n",
        "  print(\"******************* 게임 시작 *******************\")\n",
        "\n",
        "  for i in range(3):\n",
        "    print(f\"============= ROUND {i+1} =============\")\n",
        "    play_round()\n",
        "    print()\n",
        "    print()\n",
        "  \n",
        "  print(\"******************* 명예의 전당 *******************\")\n",
        "  game_result()\n",
        "\n",
        "game()"
      ],
      "execution_count": null,
      "outputs": [
        {
          "output_type": "stream",
          "text": [
            "******************* 게임 접속 *******************\n",
            "1의 이름을 입력해주세요:피\n",
            "2의 이름을 입력해주세요:로\n",
            "3의 이름을 입력해주세요:그\n",
            "4의 이름을 입력해주세요:래\n",
            "5의 이름을 입력해주세요:밍\n",
            "******************* 캐릭터 선택 *******************\n",
            "피 의 캐릭터 선택 차례입니다. 1,2,3 중 하나의 값을 입력해주세요.1\n",
            "피 의 고유 속도는 시속 115입니다.\n",
            "로 의 캐릭터 선택 차례입니다. 1,2,3 중 하나의 값을 입력해주세요.2\n",
            "로 의 고유 속도는 시속 156입니다.\n",
            "그 의 캐릭터 선택 차례입니다. 1,2,3 중 하나의 값을 입력해주세요.3\n",
            "그 의 고유 속도는 시속 136입니다.\n",
            "래 의 캐릭터 선택 차례입니다. 1,2,3 중 하나의 값을 입력해주세요.1\n",
            "래 의 고유 속도는 시속 115입니다.\n",
            "밍 의 캐릭터 선택 차례입니다. 1,2,3 중 하나의 값을 입력해주세요.2\n",
            "밍 의 고유 속도는 시속 156입니다.\n",
            "******************* 게임 시작 *******************\n",
            "============= ROUND 1 =============\n",
            "이번 라운드의 트랙 길이는 23 km 입니다.\n",
            "[아이템 적용]\n",
            "Player 피는 banana_slip 덕분에 시속 95로 이번 트랙을 질주합니다! 화이팅\n",
            "Player 로는 booster 덕분에 시속 198로 이번 트랙을 질주합니다! 화이팅\n",
            "Player 그는 booster 덕분에 시속 183로 이번 트랙을 질주합니다! 화이팅\n",
            "Player 래는 banana_slip 덕분에 시속 82로 이번 트랙을 질주합니다! 화이팅\n",
            "Player 밍는 banana_slip 덕분에 시속 120로 이번 트랙을 질주합니다! 화이팅\n",
            "[경기 진행중...]\n",
            "[라운드 결과]\n",
            "Player 피의 주행 시간: 871.578947368421\n",
            "Player 로의 주행 시간: 418.1818181818182\n",
            "Player 그의 주행 시간: 452.45901639344265\n",
            "Player 래의 주행 시간: 1009.7560975609757\n",
            "Player 밍의 주행 시간: 690.0\n",
            "\n",
            "\n",
            "============= ROUND 2 =============\n",
            "이번 라운드의 트랙 길이는 13 km 입니다.\n",
            "[아이템 적용]\n",
            "Player 피는 booster 덕분에 시속 162로 이번 트랙을 질주합니다! 화이팅\n",
            "Player 로는 booster 덕분에 시속 205로 이번 트랙을 질주합니다! 화이팅\n",
            "Player 그는 booster 덕분에 시속 183로 이번 트랙을 질주합니다! 화이팅\n",
            "Player 래는 banana_slip 덕분에 시속 82로 이번 트랙을 질주합니다! 화이팅\n",
            "Player 밍는 banana_slip 덕분에 시속 121로 이번 트랙을 질주합니다! 화이팅\n",
            "[경기 진행중...]\n",
            "[라운드 결과]\n",
            "Player 피의 주행 시간: 288.88888888888886\n",
            "Player 로의 주행 시간: 228.29268292682926\n",
            "Player 그의 주행 시간: 255.73770491803276\n",
            "Player 래의 주행 시간: 570.7317073170732\n",
            "Player 밍의 주행 시간: 386.77685950413223\n",
            "\n",
            "\n",
            "============= ROUND 3 =============\n",
            "이번 라운드의 트랙 길이는 29 km 입니다.\n",
            "[아이템 적용]\n",
            "Player 피는 banana_slip 덕분에 시속 82로 이번 트랙을 질주합니다! 화이팅\n",
            "Player 로는 banana_slip 덕분에 시속 117로 이번 트랙을 질주합니다! 화이팅\n",
            "Player 그는 booster 덕분에 시속 185로 이번 트랙을 질주합니다! 화이팅\n",
            "Player 래는 banana_slip 덕분에 시속 84로 이번 트랙을 질주합니다! 화이팅\n",
            "Player 밍는 booster 덕분에 시속 195로 이번 트랙을 질주합니다! 화이팅\n",
            "[경기 진행중...]\n",
            "[라운드 결과]\n",
            "Player 피의 주행 시간: 1273.170731707317\n",
            "Player 로의 주행 시간: 892.3076923076924\n",
            "Player 그의 주행 시간: 564.3243243243244\n",
            "Player 래의 주행 시간: 1242.857142857143\n",
            "Player 밍의 주행 시간: 535.3846153846154\n",
            "\n",
            "\n",
            "******************* 명예의 전당 *******************\n",
            "1 위: 그 (총 주행 시간: 1272.5210456357997 초)\n",
            "2 위: 로 (총 주행 시간: 1538.7821934163399 초)\n",
            "3 위: 밍 (총 주행 시간: 1612.1614748887478 초)\n"
          ],
          "name": "stdout"
        }
      ]
    },
    {
      "cell_type": "code",
      "metadata": {
        "id": "H9t6WTRhJeOr"
      },
      "source": [
        ""
      ],
      "execution_count": null,
      "outputs": []
    }
  ]
}